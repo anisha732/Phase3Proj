{
 "cells": [
  {
   "cell_type": "code",
   "execution_count": 61,
   "metadata": {},
   "outputs": [],
   "source": [
    "#imports\n",
    "import pandas as pd\n",
    "import numpy as np\n",
    "import matplotlib.pyplot as plt"
   ]
  },
  {
   "cell_type": "code",
   "execution_count": 49,
   "metadata": {},
   "outputs": [],
   "source": [
    "df = pd.read_csv('healthcare-dataset-stroke-data.csv')\n",
    "pd.set_option('display.max_columns', None)\n",
    "pd.set_option('display.max_rows', None)"
   ]
  },
  {
   "cell_type": "code",
   "execution_count": 50,
   "metadata": {},
   "outputs": [
    {
     "data": {
      "text/html": [
       "<div>\n",
       "<style scoped>\n",
       "    .dataframe tbody tr th:only-of-type {\n",
       "        vertical-align: middle;\n",
       "    }\n",
       "\n",
       "    .dataframe tbody tr th {\n",
       "        vertical-align: top;\n",
       "    }\n",
       "\n",
       "    .dataframe thead th {\n",
       "        text-align: right;\n",
       "    }\n",
       "</style>\n",
       "<table border=\"1\" class=\"dataframe\">\n",
       "  <thead>\n",
       "    <tr style=\"text-align: right;\">\n",
       "      <th></th>\n",
       "      <th>id</th>\n",
       "      <th>gender</th>\n",
       "      <th>age</th>\n",
       "      <th>hypertension</th>\n",
       "      <th>heart_disease</th>\n",
       "      <th>ever_married</th>\n",
       "      <th>work_type</th>\n",
       "      <th>Residence_type</th>\n",
       "      <th>avg_glucose_level</th>\n",
       "      <th>bmi</th>\n",
       "      <th>smoking_status</th>\n",
       "      <th>stroke</th>\n",
       "    </tr>\n",
       "  </thead>\n",
       "  <tbody>\n",
       "    <tr>\n",
       "      <th>0</th>\n",
       "      <td>9046</td>\n",
       "      <td>Male</td>\n",
       "      <td>67.0</td>\n",
       "      <td>0</td>\n",
       "      <td>1</td>\n",
       "      <td>Yes</td>\n",
       "      <td>Private</td>\n",
       "      <td>Urban</td>\n",
       "      <td>228.69</td>\n",
       "      <td>36.6</td>\n",
       "      <td>formerly smoked</td>\n",
       "      <td>1</td>\n",
       "    </tr>\n",
       "    <tr>\n",
       "      <th>1</th>\n",
       "      <td>51676</td>\n",
       "      <td>Female</td>\n",
       "      <td>61.0</td>\n",
       "      <td>0</td>\n",
       "      <td>0</td>\n",
       "      <td>Yes</td>\n",
       "      <td>Self-employed</td>\n",
       "      <td>Rural</td>\n",
       "      <td>202.21</td>\n",
       "      <td>NaN</td>\n",
       "      <td>never smoked</td>\n",
       "      <td>1</td>\n",
       "    </tr>\n",
       "    <tr>\n",
       "      <th>2</th>\n",
       "      <td>31112</td>\n",
       "      <td>Male</td>\n",
       "      <td>80.0</td>\n",
       "      <td>0</td>\n",
       "      <td>1</td>\n",
       "      <td>Yes</td>\n",
       "      <td>Private</td>\n",
       "      <td>Rural</td>\n",
       "      <td>105.92</td>\n",
       "      <td>32.5</td>\n",
       "      <td>never smoked</td>\n",
       "      <td>1</td>\n",
       "    </tr>\n",
       "    <tr>\n",
       "      <th>3</th>\n",
       "      <td>60182</td>\n",
       "      <td>Female</td>\n",
       "      <td>49.0</td>\n",
       "      <td>0</td>\n",
       "      <td>0</td>\n",
       "      <td>Yes</td>\n",
       "      <td>Private</td>\n",
       "      <td>Urban</td>\n",
       "      <td>171.23</td>\n",
       "      <td>34.4</td>\n",
       "      <td>smokes</td>\n",
       "      <td>1</td>\n",
       "    </tr>\n",
       "    <tr>\n",
       "      <th>4</th>\n",
       "      <td>1665</td>\n",
       "      <td>Female</td>\n",
       "      <td>79.0</td>\n",
       "      <td>1</td>\n",
       "      <td>0</td>\n",
       "      <td>Yes</td>\n",
       "      <td>Self-employed</td>\n",
       "      <td>Rural</td>\n",
       "      <td>174.12</td>\n",
       "      <td>24.0</td>\n",
       "      <td>never smoked</td>\n",
       "      <td>1</td>\n",
       "    </tr>\n",
       "  </tbody>\n",
       "</table>\n",
       "</div>"
      ],
      "text/plain": [
       "      id  gender   age  hypertension  heart_disease ever_married  \\\n",
       "0   9046    Male  67.0             0              1          Yes   \n",
       "1  51676  Female  61.0             0              0          Yes   \n",
       "2  31112    Male  80.0             0              1          Yes   \n",
       "3  60182  Female  49.0             0              0          Yes   \n",
       "4   1665  Female  79.0             1              0          Yes   \n",
       "\n",
       "       work_type Residence_type  avg_glucose_level   bmi   smoking_status  \\\n",
       "0        Private          Urban             228.69  36.6  formerly smoked   \n",
       "1  Self-employed          Rural             202.21   NaN     never smoked   \n",
       "2        Private          Rural             105.92  32.5     never smoked   \n",
       "3        Private          Urban             171.23  34.4           smokes   \n",
       "4  Self-employed          Rural             174.12  24.0     never smoked   \n",
       "\n",
       "   stroke  \n",
       "0       1  \n",
       "1       1  \n",
       "2       1  \n",
       "3       1  \n",
       "4       1  "
      ]
     },
     "execution_count": 50,
     "metadata": {},
     "output_type": "execute_result"
    }
   ],
   "source": [
    "df.head()"
   ]
  },
  {
   "cell_type": "code",
   "execution_count": 51,
   "metadata": {},
   "outputs": [
    {
     "data": {
      "text/plain": [
       "(5110, 12)"
      ]
     },
     "execution_count": 51,
     "metadata": {},
     "output_type": "execute_result"
    }
   ],
   "source": [
    "df.shape"
   ]
  },
  {
   "cell_type": "markdown",
   "metadata": {},
   "source": [
    "# Data Cleaning"
   ]
  },
  {
   "cell_type": "code",
   "execution_count": 52,
   "metadata": {},
   "outputs": [],
   "source": [
    "df = df.drop(columns=['id'], axis=1)"
   ]
  },
  {
   "cell_type": "code",
   "execution_count": 53,
   "metadata": {},
   "outputs": [
    {
     "data": {
      "text/html": [
       "<div>\n",
       "<style scoped>\n",
       "    .dataframe tbody tr th:only-of-type {\n",
       "        vertical-align: middle;\n",
       "    }\n",
       "\n",
       "    .dataframe tbody tr th {\n",
       "        vertical-align: top;\n",
       "    }\n",
       "\n",
       "    .dataframe thead th {\n",
       "        text-align: right;\n",
       "    }\n",
       "</style>\n",
       "<table border=\"1\" class=\"dataframe\">\n",
       "  <thead>\n",
       "    <tr style=\"text-align: right;\">\n",
       "      <th></th>\n",
       "      <th>gender</th>\n",
       "      <th>age</th>\n",
       "      <th>hypertension</th>\n",
       "      <th>heart_disease</th>\n",
       "      <th>ever_married</th>\n",
       "      <th>work_type</th>\n",
       "      <th>Residence_type</th>\n",
       "      <th>avg_glucose_level</th>\n",
       "      <th>bmi</th>\n",
       "      <th>smoking_status</th>\n",
       "      <th>stroke</th>\n",
       "    </tr>\n",
       "  </thead>\n",
       "  <tbody>\n",
       "    <tr>\n",
       "      <th>0</th>\n",
       "      <td>Male</td>\n",
       "      <td>67.0</td>\n",
       "      <td>0</td>\n",
       "      <td>1</td>\n",
       "      <td>Yes</td>\n",
       "      <td>Private</td>\n",
       "      <td>Urban</td>\n",
       "      <td>228.69</td>\n",
       "      <td>36.6</td>\n",
       "      <td>formerly smoked</td>\n",
       "      <td>1</td>\n",
       "    </tr>\n",
       "    <tr>\n",
       "      <th>1</th>\n",
       "      <td>Female</td>\n",
       "      <td>61.0</td>\n",
       "      <td>0</td>\n",
       "      <td>0</td>\n",
       "      <td>Yes</td>\n",
       "      <td>Self-employed</td>\n",
       "      <td>Rural</td>\n",
       "      <td>202.21</td>\n",
       "      <td>NaN</td>\n",
       "      <td>never smoked</td>\n",
       "      <td>1</td>\n",
       "    </tr>\n",
       "    <tr>\n",
       "      <th>2</th>\n",
       "      <td>Male</td>\n",
       "      <td>80.0</td>\n",
       "      <td>0</td>\n",
       "      <td>1</td>\n",
       "      <td>Yes</td>\n",
       "      <td>Private</td>\n",
       "      <td>Rural</td>\n",
       "      <td>105.92</td>\n",
       "      <td>32.5</td>\n",
       "      <td>never smoked</td>\n",
       "      <td>1</td>\n",
       "    </tr>\n",
       "    <tr>\n",
       "      <th>3</th>\n",
       "      <td>Female</td>\n",
       "      <td>49.0</td>\n",
       "      <td>0</td>\n",
       "      <td>0</td>\n",
       "      <td>Yes</td>\n",
       "      <td>Private</td>\n",
       "      <td>Urban</td>\n",
       "      <td>171.23</td>\n",
       "      <td>34.4</td>\n",
       "      <td>smokes</td>\n",
       "      <td>1</td>\n",
       "    </tr>\n",
       "    <tr>\n",
       "      <th>4</th>\n",
       "      <td>Female</td>\n",
       "      <td>79.0</td>\n",
       "      <td>1</td>\n",
       "      <td>0</td>\n",
       "      <td>Yes</td>\n",
       "      <td>Self-employed</td>\n",
       "      <td>Rural</td>\n",
       "      <td>174.12</td>\n",
       "      <td>24.0</td>\n",
       "      <td>never smoked</td>\n",
       "      <td>1</td>\n",
       "    </tr>\n",
       "  </tbody>\n",
       "</table>\n",
       "</div>"
      ],
      "text/plain": [
       "   gender   age  hypertension  heart_disease ever_married      work_type  \\\n",
       "0    Male  67.0             0              1          Yes        Private   \n",
       "1  Female  61.0             0              0          Yes  Self-employed   \n",
       "2    Male  80.0             0              1          Yes        Private   \n",
       "3  Female  49.0             0              0          Yes        Private   \n",
       "4  Female  79.0             1              0          Yes  Self-employed   \n",
       "\n",
       "  Residence_type  avg_glucose_level   bmi   smoking_status  stroke  \n",
       "0          Urban             228.69  36.6  formerly smoked       1  \n",
       "1          Rural             202.21   NaN     never smoked       1  \n",
       "2          Rural             105.92  32.5     never smoked       1  \n",
       "3          Urban             171.23  34.4           smokes       1  \n",
       "4          Rural             174.12  24.0     never smoked       1  "
      ]
     },
     "execution_count": 53,
     "metadata": {},
     "output_type": "execute_result"
    }
   ],
   "source": [
    "df.head()"
   ]
  },
  {
   "cell_type": "code",
   "execution_count": 54,
   "metadata": {},
   "outputs": [
    {
     "data": {
      "text/plain": [
       "gender                 0\n",
       "age                    0\n",
       "hypertension           0\n",
       "heart_disease          0\n",
       "ever_married           0\n",
       "work_type              0\n",
       "Residence_type         0\n",
       "avg_glucose_level      0\n",
       "bmi                  201\n",
       "smoking_status         0\n",
       "stroke                 0\n",
       "dtype: int64"
      ]
     },
     "execution_count": 54,
     "metadata": {},
     "output_type": "execute_result"
    }
   ],
   "source": [
    "df.isna().sum()"
   ]
  },
  {
   "cell_type": "code",
   "execution_count": 55,
   "metadata": {},
   "outputs": [
    {
     "data": {
      "text/plain": [
       "count    4909.000000\n",
       "mean       28.893237\n",
       "std         7.854067\n",
       "min        10.300000\n",
       "25%        23.500000\n",
       "50%        28.100000\n",
       "75%        33.100000\n",
       "max        97.600000\n",
       "Name: bmi, dtype: float64"
      ]
     },
     "execution_count": 55,
     "metadata": {},
     "output_type": "execute_result"
    }
   ],
   "source": [
    "df['bmi'].describe()"
   ]
  },
  {
   "cell_type": "code",
   "execution_count": 56,
   "metadata": {},
   "outputs": [],
   "source": [
    "df['bmi'] = df['bmi'].fillna(28.9)"
   ]
  },
  {
   "cell_type": "code",
   "execution_count": 57,
   "metadata": {},
   "outputs": [
    {
     "data": {
      "text/plain": [
       "Female    2994\n",
       "Male      2115\n",
       "Other        1\n",
       "Name: gender, dtype: int64"
      ]
     },
     "execution_count": 57,
     "metadata": {},
     "output_type": "execute_result"
    }
   ],
   "source": [
    "df['gender'].value_counts()"
   ]
  },
  {
   "cell_type": "code",
   "execution_count": 58,
   "metadata": {},
   "outputs": [],
   "source": [
    "df = df[df['gender']!='Other']"
   ]
  },
  {
   "cell_type": "code",
   "execution_count": 59,
   "metadata": {},
   "outputs": [
    {
     "data": {
      "text/plain": [
       "78.00    102\n",
       "57.00     95\n",
       "52.00     90\n",
       "54.00     87\n",
       "51.00     86\n",
       "79.00     85\n",
       "53.00     85\n",
       "45.00     85\n",
       "50.00     83\n",
       "55.00     83\n",
       "59.00     80\n",
       "49.00     79\n",
       "31.00     79\n",
       "56.00     77\n",
       "37.00     76\n",
       "61.00     76\n",
       "44.00     75\n",
       "47.00     75\n",
       "63.00     74\n",
       "62.00     74\n",
       "40.00     74\n",
       "41.00     73\n",
       "60.00     72\n",
       "38.00     72\n",
       "39.00     71\n",
       "42.00     71\n",
       "32.00     71\n",
       "43.00     70\n",
       "80.00     70\n",
       "58.00     68\n",
       "34.00     68\n",
       "48.00     66\n",
       "5.00      65\n",
       "23.00     64\n",
       "46.00     62\n",
       "65.00     62\n",
       "71.00     61\n",
       "26.00     61\n",
       "17.00     60\n",
       "66.00     60\n",
       "81.00     60\n",
       "18.00     60\n",
       "20.00     59\n",
       "8.00      58\n",
       "13.00     57\n",
       "33.00     57\n",
       "25.00     57\n",
       "82.00     56\n",
       "30.00     55\n",
       "24.00     55\n",
       "27.00     55\n",
       "2.00      55\n",
       "69.00     54\n",
       "28.00     54\n",
       "14.00     54\n",
       "35.00     54\n",
       "75.00     53\n",
       "64.00     53\n",
       "16.00     52\n",
       "36.00     52\n",
       "29.00     51\n",
       "19.00     50\n",
       "76.00     50\n",
       "67.00     49\n",
       "21.00     47\n",
       "68.00     47\n",
       "73.00     46\n",
       "3.00      46\n",
       "70.00     45\n",
       "15.00     45\n",
       "22.00     45\n",
       "12.00     45\n",
       "72.00     45\n",
       "77.00     42\n",
       "74.00     40\n",
       "9.00      38\n",
       "11.00     36\n",
       "10.00     35\n",
       "4.00      34\n",
       "7.00      32\n",
       "6.00      24\n",
       "1.80       9\n",
       "1.88       8\n",
       "1.64       8\n",
       "1.32       8\n",
       "1.24       8\n",
       "1.08       8\n",
       "1.72       6\n",
       "1.48       6\n",
       "0.88       5\n",
       "0.32       5\n",
       "0.56       5\n",
       "1.00       5\n",
       "0.24       5\n",
       "0.72       5\n",
       "0.80       4\n",
       "1.56       4\n",
       "0.64       4\n",
       "1.16       4\n",
       "1.40       3\n",
       "0.48       3\n",
       "0.16       3\n",
       "0.08       2\n",
       "0.40       2\n",
       "Name: age, dtype: int64"
      ]
     },
     "execution_count": 59,
     "metadata": {},
     "output_type": "execute_result"
    }
   ],
   "source": [
    "df['age'].value_counts()"
   ]
  },
  {
   "cell_type": "code",
   "execution_count": 60,
   "metadata": {},
   "outputs": [
    {
     "data": {
      "text/html": [
       "<div>\n",
       "<style scoped>\n",
       "    .dataframe tbody tr th:only-of-type {\n",
       "        vertical-align: middle;\n",
       "    }\n",
       "\n",
       "    .dataframe tbody tr th {\n",
       "        vertical-align: top;\n",
       "    }\n",
       "\n",
       "    .dataframe thead th {\n",
       "        text-align: right;\n",
       "    }\n",
       "</style>\n",
       "<table border=\"1\" class=\"dataframe\">\n",
       "  <thead>\n",
       "    <tr style=\"text-align: right;\">\n",
       "      <th></th>\n",
       "      <th>gender</th>\n",
       "      <th>age</th>\n",
       "      <th>hypertension</th>\n",
       "      <th>heart_disease</th>\n",
       "      <th>ever_married</th>\n",
       "      <th>work_type</th>\n",
       "      <th>Residence_type</th>\n",
       "      <th>avg_glucose_level</th>\n",
       "      <th>bmi</th>\n",
       "      <th>smoking_status</th>\n",
       "      <th>stroke</th>\n",
       "    </tr>\n",
       "  </thead>\n",
       "  <tbody>\n",
       "    <tr>\n",
       "      <th>363</th>\n",
       "      <td>Female</td>\n",
       "      <td>0.64</td>\n",
       "      <td>0</td>\n",
       "      <td>0</td>\n",
       "      <td>No</td>\n",
       "      <td>children</td>\n",
       "      <td>Urban</td>\n",
       "      <td>83.82</td>\n",
       "      <td>24.9</td>\n",
       "      <td>Unknown</td>\n",
       "      <td>0</td>\n",
       "    </tr>\n",
       "    <tr>\n",
       "      <th>376</th>\n",
       "      <td>Female</td>\n",
       "      <td>0.88</td>\n",
       "      <td>0</td>\n",
       "      <td>0</td>\n",
       "      <td>No</td>\n",
       "      <td>children</td>\n",
       "      <td>Rural</td>\n",
       "      <td>88.11</td>\n",
       "      <td>15.5</td>\n",
       "      <td>Unknown</td>\n",
       "      <td>0</td>\n",
       "    </tr>\n",
       "    <tr>\n",
       "      <th>564</th>\n",
       "      <td>Female</td>\n",
       "      <td>0.32</td>\n",
       "      <td>0</td>\n",
       "      <td>0</td>\n",
       "      <td>No</td>\n",
       "      <td>children</td>\n",
       "      <td>Rural</td>\n",
       "      <td>73.71</td>\n",
       "      <td>16.2</td>\n",
       "      <td>Unknown</td>\n",
       "      <td>0</td>\n",
       "    </tr>\n",
       "    <tr>\n",
       "      <th>844</th>\n",
       "      <td>Male</td>\n",
       "      <td>1.00</td>\n",
       "      <td>0</td>\n",
       "      <td>0</td>\n",
       "      <td>No</td>\n",
       "      <td>children</td>\n",
       "      <td>Rural</td>\n",
       "      <td>89.30</td>\n",
       "      <td>21.4</td>\n",
       "      <td>Unknown</td>\n",
       "      <td>0</td>\n",
       "    </tr>\n",
       "    <tr>\n",
       "      <th>951</th>\n",
       "      <td>Male</td>\n",
       "      <td>1.00</td>\n",
       "      <td>0</td>\n",
       "      <td>0</td>\n",
       "      <td>No</td>\n",
       "      <td>children</td>\n",
       "      <td>Rural</td>\n",
       "      <td>123.21</td>\n",
       "      <td>15.1</td>\n",
       "      <td>Unknown</td>\n",
       "      <td>0</td>\n",
       "    </tr>\n",
       "  </tbody>\n",
       "</table>\n",
       "</div>"
      ],
      "text/plain": [
       "     gender   age  hypertension  heart_disease ever_married work_type  \\\n",
       "363  Female  0.64             0              0           No  children   \n",
       "376  Female  0.88             0              0           No  children   \n",
       "564  Female  0.32             0              0           No  children   \n",
       "844    Male  1.00             0              0           No  children   \n",
       "951    Male  1.00             0              0           No  children   \n",
       "\n",
       "    Residence_type  avg_glucose_level   bmi smoking_status  stroke  \n",
       "363          Urban              83.82  24.9        Unknown       0  \n",
       "376          Rural              88.11  15.5        Unknown       0  \n",
       "564          Rural              73.71  16.2        Unknown       0  \n",
       "844          Rural              89.30  21.4        Unknown       0  \n",
       "951          Rural             123.21  15.1        Unknown       0  "
      ]
     },
     "execution_count": 60,
     "metadata": {},
     "output_type": "execute_result"
    }
   ],
   "source": [
    "df[df['age']<=1].head()"
   ]
  },
  {
   "cell_type": "code",
   "execution_count": 72,
   "metadata": {},
   "outputs": [
    {
     "data": {
      "text/plain": [
       "0.08       2\n",
       "0.16       3\n",
       "0.24       5\n",
       "0.32       5\n",
       "0.40       2\n",
       "0.48       3\n",
       "0.56       5\n",
       "0.64       4\n",
       "0.72       5\n",
       "0.80       4\n",
       "0.88       5\n",
       "1.00       5\n",
       "1.08       8\n",
       "1.16       4\n",
       "1.24       8\n",
       "1.32       8\n",
       "1.40       3\n",
       "1.48       6\n",
       "1.56       4\n",
       "1.64       8\n",
       "1.72       6\n",
       "1.80       9\n",
       "1.88       8\n",
       "2.00      55\n",
       "3.00      46\n",
       "4.00      34\n",
       "5.00      65\n",
       "6.00      24\n",
       "7.00      32\n",
       "8.00      58\n",
       "9.00      38\n",
       "10.00     35\n",
       "11.00     36\n",
       "12.00     45\n",
       "13.00     57\n",
       "14.00     54\n",
       "15.00     45\n",
       "16.00     52\n",
       "17.00     60\n",
       "18.00     60\n",
       "19.00     50\n",
       "20.00     59\n",
       "21.00     47\n",
       "22.00     45\n",
       "23.00     64\n",
       "24.00     55\n",
       "25.00     57\n",
       "26.00     61\n",
       "27.00     55\n",
       "28.00     54\n",
       "29.00     51\n",
       "30.00     55\n",
       "31.00     79\n",
       "32.00     71\n",
       "33.00     57\n",
       "34.00     68\n",
       "35.00     54\n",
       "36.00     52\n",
       "37.00     76\n",
       "38.00     72\n",
       "39.00     71\n",
       "40.00     74\n",
       "41.00     73\n",
       "42.00     71\n",
       "43.00     70\n",
       "44.00     75\n",
       "45.00     85\n",
       "46.00     62\n",
       "47.00     75\n",
       "48.00     66\n",
       "49.00     79\n",
       "50.00     83\n",
       "51.00     86\n",
       "52.00     90\n",
       "53.00     85\n",
       "54.00     87\n",
       "55.00     83\n",
       "56.00     77\n",
       "57.00     95\n",
       "58.00     68\n",
       "59.00     80\n",
       "60.00     72\n",
       "61.00     76\n",
       "62.00     74\n",
       "63.00     74\n",
       "64.00     53\n",
       "65.00     62\n",
       "66.00     60\n",
       "67.00     49\n",
       "68.00     47\n",
       "69.00     54\n",
       "70.00     45\n",
       "71.00     61\n",
       "72.00     45\n",
       "73.00     46\n",
       "74.00     40\n",
       "75.00     53\n",
       "76.00     50\n",
       "77.00     42\n",
       "78.00    102\n",
       "79.00     85\n",
       "80.00     70\n",
       "81.00     60\n",
       "82.00     56\n",
       "Name: age, dtype: int64"
      ]
     },
     "execution_count": 72,
     "metadata": {},
     "output_type": "execute_result"
    }
   ],
   "source": [
    "df['age'].value_counts().sort_index()"
   ]
  },
  {
   "cell_type": "markdown",
   "metadata": {},
   "source": [
    "# Exploratory Data Analysis"
   ]
  },
  {
   "cell_type": "code",
   "execution_count": 95,
   "metadata": {},
   "outputs": [
    {
     "data": {
      "text/plain": [
       "<matplotlib.legend.Legend at 0x120665130>"
      ]
     },
     "execution_count": 95,
     "metadata": {},
     "output_type": "execute_result"
    },
    {
     "data": {
      "image/png": "[encoded data removed]",
      "text/plain": [
       "<Figure size 648x360 with 1 Axes>"
      ]
     },
     "metadata": {
      "needs_background": "light"
     },
     "output_type": "display_data"
    }
   ],
   "source": [
    "children = df[df['age']<=16]\n",
    "young_adults = df[(df['age']>16) & (df['age']<=30)]\n",
    "middle_aged = df[(df['age']>30) & (df['age']<=60)]\n",
    "seniors = df[df['age']>60]\n",
    "\n",
    "stroke_children = children[children['stroke']==1].count()['age']\n",
    "stroke_ya = young_adults[young_adults['stroke']==1].count()['age']\n",
    "stroke_ma = middle_aged[middle_aged['stroke']==1].count()['age']\n",
    "stroke_seniors = seniors[seniors['stroke']==1].count()['age']\n",
    "\n",
    "no_stroke_children = children[children['stroke']==0].count()['age']\n",
    "no_stroke_ya = young_adults[young_adults['stroke']==0].count()['age']\n",
    "no_stroke_ma = middle_aged[middle_aged['stroke']==0].count()['age']\n",
    "no_stroke_seniors = seniors[seniors['stroke']==0].count()['age']\n",
    "\n",
    "N = 4\n",
    "def_ed_bar = (stroke_children, stroke_ya, stroke_ma, stroke_seniors)\n",
    "no_def_ed_bar = (no_stroke_children, no_stroke_ya, no_stroke_ma, no_stroke_seniors)\n",
    "\n",
    "# Position of bars on x-axis\n",
    "ind = np.arange(N)\n",
    "figure,axes=plt.subplots(figsize=(9,5))\n",
    "width = 0.3       \n",
    "\n",
    "plt.bar(ind, def_ed_bar , width, label= 'Stroke')\n",
    "plt.bar(ind + width, no_def_ed_bar, width, label='No Stroke')\n",
    "\n",
    "axes.set_xticks([0.2,1.2,2.2,3.2])\n",
    "axes.set_xticklabels(['Children', 'Young Adult', 'Middle Aged', 'Seniors'])\n",
    "\n",
    "axes.set_xlabel('Age')\n",
    "axes.set_ylabel('Count')\n",
    "axes.set_title('Stroke based on Age')\n",
    "axes.legend()"
   ]
  },
  {
   "cell_type": "code",
   "execution_count": 88,
   "metadata": {},
   "outputs": [
    {
     "name": "stdout",
     "output_type": "stream",
     "text": [
      "220\n",
      "3133\n",
      "29\n",
      "1727\n"
     ]
    }
   ],
   "source": [
    "print(stroke_married)\n",
    "print(no_stroke_married)\n",
    "print(stroke_not_married)\n",
    "print(no_stroke_not_married)"
   ]
  },
  {
   "cell_type": "code",
   "execution_count": 90,
   "metadata": {},
   "outputs": [
    {
     "data": {
      "text/plain": [
       "<matplotlib.legend.Legend at 0x12029cd60>"
      ]
     },
     "execution_count": 90,
     "metadata": {},
     "output_type": "execute_result"
    },
    {
     "data": {
      "image/png": "[encoded data removed]",
      "text/plain": [
       "<Figure size 648x360 with 1 Axes>"
      ]
     },
     "metadata": {
      "needs_background": "light"
     },
     "output_type": "display_data"
    }
   ],
   "source": [
    "married = df[df['ever_married']=='Yes']\n",
    "not_married = df[df['ever_married']=='No']\n",
    "\n",
    "stroke_married = married[married['stroke']==1].count()['age']\n",
    "no_stroke_married = married[married['stroke']==0].count()['age']\n",
    "\n",
    "stroke_not_married =  not_married[not_married['stroke']==1].count()['age']\n",
    "no_stroke_not_married =  not_married[not_married['stroke']==0].count()['age']\n",
    "\n",
    "\n",
    "N=2\n",
    "\n",
    "stroke_marriage = (stroke_married, stroke_not_married)\n",
    "no_stroke_marriage = (no_stroke_married, no_stroke_not_married)\n",
    "\n",
    "ind = np.arange(N)\n",
    "figure,axes=plt.subplots(figsize=(9,5))\n",
    "width = 0.3       \n",
    "\n",
    "plt.bar(ind, stroke_marriage , width, label= 'Stroke')\n",
    "plt.bar(ind + width, no_stroke_marriage, width, label='No Stroke')\n",
    "\n",
    "axes.set_xticks([0.16,1.16])\n",
    "axes.set_xticklabels(['Married','Not Married'])\n",
    "\n",
    "axes.set_xlabel('Ever Married')\n",
    "axes.set_ylabel('Count')\n",
    "axes.set_title('Stroke based on if married')\n",
    "axes.legend()"
   ]
  },
  {
   "cell_type": "code",
   "execution_count": 91,
   "metadata": {},
   "outputs": [
    {
     "data": {
      "text/plain": [
       "never smoked       1892\n",
       "Unknown            1544\n",
       "formerly smoked     884\n",
       "smokes              789\n",
       "Name: smoking_status, dtype: int64"
      ]
     },
     "execution_count": 91,
     "metadata": {},
     "output_type": "execute_result"
    }
   ],
   "source": [
    "df['smoking_status'].value_counts()"
   ]
  },
  {
   "cell_type": "code",
   "execution_count": 94,
   "metadata": {},
   "outputs": [
    {
     "data": {
      "text/plain": [
       "<matplotlib.legend.Legend at 0x12039cb20>"
      ]
     },
     "execution_count": 94,
     "metadata": {},
     "output_type": "execute_result"
    },
    {
     "data": {
      "image/png": "[encoded data removed]",
      "text/plain": [
       "<Figure size 648x360 with 1 Axes>"
      ]
     },
     "metadata": {
      "needs_background": "light"
     },
     "output_type": "display_data"
    }
   ],
   "source": [
    "never_smoked = df[df['smoking_status']=='never smoked']\n",
    "formerly_smoked = df[df['smoking_status']=='formerly smoked']\n",
    "smokes = df[df['smoking_status']=='smokes']\n",
    "unknown = df[df['smoking_status']=='Unknown']\n",
    "\n",
    "#had stroke\n",
    "s_never_smoked = never_smoked[never_smoked['stroke']==1].count()['age']\n",
    "s_formerly_smoked = formerly_smoked[formerly_smoked['stroke']==1].count()['age']\n",
    "s_smokes = smokes[smokes['stroke']==1].count()['age']\n",
    "s_unknown = unknown[unknown['stroke']==1].count()['age']\n",
    "\n",
    "#did not have stroke\n",
    "ns_never_smoked = never_smoked[never_smoked['stroke']==0].count()['age']\n",
    "ns_formerly_smoked = formerly_smoked[formerly_smoked['stroke']==0].count()['age']\n",
    "ns_smokes = smokes[smokes['stroke']==0].count()['age']\n",
    "ns_unknown = unknown[unknown['stroke']==0].count()['age']\n",
    "\n",
    "N=4\n",
    "\n",
    "stroke_smoke = (s_never_smoked, s_formerly_smoked, s_smokes, s_unknown)\n",
    "no_stroke_smoke = (ns_never_smoked, ns_formerly_smoked, ns_smokes, ns_unknown)\n",
    "\n",
    "ind = np.arange(N)\n",
    "figure,axes=plt.subplots(figsize=(9,5))\n",
    "width = 0.3       \n",
    "\n",
    "plt.bar(ind, stroke_smoke , width, label= 'Stroke')\n",
    "plt.bar(ind + width, no_stroke_smoke, width, label='No Stroke')\n",
    "\n",
    "axes.set_xticks([0.25,1.2, 2.2, 3.2])\n",
    "axes.set_xticklabels(['Never Smoked', 'Formerly Smoked', 'Smokes', 'Unknown'])\n",
    "\n",
    "axes.set_xlabel('Smoking Status')\n",
    "axes.set_ylabel('Count')\n",
    "axes.set_title('Stroke based on if smoker')\n",
    "axes.legend()"
   ]
  },
  {
   "cell_type": "code",
   "execution_count": null,
   "metadata": {},
   "outputs": [],
   "source": [
    "# ADD GRAPH OF JUST SMOKE DATA"
   ]
  },
  {
   "cell_type": "code",
   "execution_count": null,
   "metadata": {},
   "outputs": [],
   "source": [
    "norm_gluc = df[df['avg_glucose_level'] < 140]\n",
    "pre_dib_gluc = df[(df['avg_glucose_level'] >= 140) & (df['avg_glucose_level'] < 200)]\n",
    "dib_gluc = df[df['avg_glucose_level'] >= 200]\n",
    "ns_norm_gluc = norm_gluc[norm_gluc['stroke'] == 0]\n",
    "s_norm_gluc = norm_gluc[norm_gluc['stroke'] == 1]\n",
    "ns_pre_dib_gluc = pre_dib_gluc[pre_dib_gluc['stroke'] == 0]\n",
    "s_pre_dib_gluc = pre_dib_gluc[pre_dib_gluc['stroke'] == 1]\n",
    "ns_dib_gluc = dib_gluc[dib_gluc['stroke'] == 0]\n",
    "s_dib_gluc = dib_gluc[dib_gluc['stroke'] == 1]"
   ]
  }
 ],
 "metadata": {
  "kernelspec": {
   "display_name": "Python 3",
   "language": "python",
   "name": "python3"
  },
  "language_info": {
   "codemirror_mode": {
    "name": "ipython",
    "version": 3
   },
   "file_extension": ".py",
   "mimetype": "text/x-python",
   "name": "python",
   "nbconvert_exporter": "python",
   "pygments_lexer": "ipython3",
   "version": "3.8.5"
  }
 },
 "nbformat": 4,
 "nbformat_minor": 4
}
